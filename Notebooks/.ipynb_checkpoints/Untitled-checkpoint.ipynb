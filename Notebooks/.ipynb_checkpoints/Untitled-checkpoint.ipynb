{
 "cells": [
  {
   "cell_type": "markdown",
   "id": "03139965-95fe-4d2a-a088-103b02e6843e",
   "metadata": {},
   "source": [
    "# PREPARATION DES DONNEES"
   ]
  },
  {
   "cell_type": "markdown",
   "id": "67d3378f-5b96-4a6b-a355-cfad6bef6305",
   "metadata": {},
   "source": [
    "## Téléchargement et extraction du dataset\n",
    "Nous allons commencer par télécharger et extraire le dataset \"Stanford Sentiment Treebank\". Ce dataset contient des phrases annotées avec des labels de sentiments (allant de 0 à 4)."
   ]
  },
  {
   "cell_type": "code",
   "execution_count": 2,
   "id": "51cfe13e-1994-499c-927d-355f18d0c406",
   "metadata": {},
   "outputs": [],
   "source": [
    "import pandas as pd\n",
    "import requests\n",
    "import zipfile\n",
    "import os\n",
    "\n",
    "url = \"https://nlp.stanford.edu/sentiment/trainDevTestTrees_PTB.zip\"\n",
    "dataset_path = \"../Dataset/trainDevTestTrees_PTB.zip\"\n",
    "\n",
    "# Commençons par télécharger le dataset\n",
    "response = requests.get(url)\n",
    "with open(dataset_path, 'wb') as file:\n",
    "    file.write(response.content)\n",
    "\n",
    "# Décompression du fichier vers le dossier parent\n",
    "with zipfile.ZipFile(dataset_path, 'r') as zip_ref:\n",
    "    zip_ref.extractall(\"..\")\n"
   ]
  },
  {
   "cell_type": "markdown",
   "id": "99c00259-5bcf-4fcf-bc0b-165a7d6df4ac",
   "metadata": {},
   "source": [
    "## Chargement des données\n",
    "Nous allons maintenant charger les fichiers texte du dataset. Chaque ligne du fichier représente une phrase annotée avec un label de sentiment."
   ]
  },
  {
   "cell_type": "code",
   "execution_count": 3,
   "id": "b2d02cae-75e7-4974-a7a3-1b2860e1b5bb",
   "metadata": {},
   "outputs": [
    {
     "name": "stdout",
     "output_type": "stream",
     "text": [
      "Exemples de données d'entraînement :\n",
      "                                            Sentence\n",
      "0  (3 (2 (2 The) (2 Rock)) (4 (3 (2 is) (4 (2 des...\n",
      "1  (4 (4 (4 (2 The) (4 (3 gorgeously) (3 (2 elabo...\n",
      "2  (3 (3 (2 (2 (2 (2 (2 Singer\\/composer) (2 (2 B...\n",
      "3  (2 (2 (2 You) (2 (2 'd) (2 (2 think) (2 (2 by)...\n",
      "4  (3 (2 Yet) (3 (2 (2 the) (2 act)) (3 (4 (3 (2 ...\n"
     ]
    }
   ],
   "source": [
    "# Chargement des données\n",
    "train_data = pd.read_csv(\"../Dataset/trees/train.txt\", delimiter=\"\\t\", header=None, names=[\"Sentence\"])\n",
    "dev_data = pd.read_csv(\"../Dataset/trees/dev.txt\", delimiter=\"\\t\", header=None, names=[\"Sentence\"])\n",
    "test_data = pd.read_csv(\"../Dataset/trees/test.txt\", delimiter=\"\\t\", header=None, names=[\"Sentence\"])\n",
    "\n",
    "# Afficher quelques exemples de données\n",
    "print(\"Exemples de données d'entraînement :\")\n",
    "print(train_data.head())"
   ]
  },
  {
   "cell_type": "markdown",
   "id": "a25bd27d-92e8-4141-ad13-08c36057a026",
   "metadata": {},
   "source": [
    "## Extraction des labels et des phrases\n",
    "Les données du Stanford Sentiment Treebank sont dans un format spécial où chaque phrase est encadrée par des parenthèses et annotée avec un label. Nous devons extraire ces informations."
   ]
  },
  {
   "cell_type": "code",
   "execution_count": 4,
   "id": "40dfbf24-c638-4005-9ae3-06b6c292001b",
   "metadata": {},
   "outputs": [],
   "source": [
    "import re\n",
    "\n",
    "# Fonction pour extraire le label et la phrase\n",
    "def extract_label(sentence):\n",
    "    match = re.match(r'\\((\\d) (.+)\\)', sentence)\n",
    "    if match:\n",
    "        return int(match.group(1)), match.group(2)\n",
    "    return None, sentence\n",
    "\n",
    "# Appliquer l'extraction des étiquettes\n",
    "train_data[\"Label\"], train_data[\"Sentence\"] = zip(*train_data[\"Sentence\"].apply(extract_label))\n",
    "dev_data[\"Label\"], dev_data[\"Sentence\"] = zip(*dev_data[\"Sentence\"].apply(extract_label))\n",
    "test_data[\"Label\"], test_data[\"Sentence\"] = zip(*test_data[\"Sentence\"].apply(extract_label))"
   ]
  },
  {
   "cell_type": "markdown",
   "id": "3d478404-9196-4db3-82d8-dda43d558162",
   "metadata": {},
   "source": [
    "## Vérification des données extraites"
   ]
  },
  {
   "cell_type": "code",
   "execution_count": 5,
   "id": "5a382762-58ee-4969-95f2-e14b0f968a8c",
   "metadata": {},
   "outputs": [
    {
     "name": "stdout",
     "output_type": "stream",
     "text": [
      "                                            Sentence  Label\n",
      "0  (2 (2 The) (2 Rock)) (4 (3 (2 is) (4 (2 destin...      3\n",
      "1  (4 (4 (2 The) (4 (3 gorgeously) (3 (2 elaborat...      4\n",
      "2  (3 (2 (2 (2 (2 (2 Singer\\/composer) (2 (2 Brya...      3\n",
      "3  (2 (2 You) (2 (2 'd) (2 (2 think) (2 (2 by) (2...      2\n",
      "4  (2 Yet) (3 (2 (2 the) (2 act)) (3 (4 (3 (2 is)...      3\n",
      "                                            Sentence  Label\n",
      "0  (2 It) (4 (4 (2 's) (4 (3 (2 a) (4 (3 lovely) ...      3\n",
      "1  (2 (1 No) (2 one)) (1 (1 (2 goes) (2 (1 (2 (2 ...      2\n",
      "2  (2 And) (4 (3 (2 if) (1 (2 you) (1 (2 (2 (2 'r...      3\n",
      "3  (4 (2 A) (4 (3 (3 warm) (2 ,)) (3 funny))) (3 ...      4\n",
      "4  (3 (2 Uses) (3 (3 (4 (3 sharp) (4 (3 (4 humor)...      4\n",
      "                                            Sentence  Label\n",
      "0  (3 (3 Effective) (2 but)) (1 (1 too-tepid) (2 ...      2\n",
      "1  (3 (2 If) (3 (2 you) (3 (2 sometimes) (2 (2 li...      3\n",
      "2  (4 (4 (3 (2 Emerges) (3 (2 as) (3 (2 something...      4\n",
      "3  (2 (2 The) (2 film)) (3 (3 (3 (3 provides) (2 ...      2\n",
      "4  (4 (2 Offers) (3 (3 (2 that) (3 (3 rare) (2 co...      4\n"
     ]
    }
   ],
   "source": [
    "print(train_data.head())\n",
    "print(dev_data.head())\n",
    "print(test_data.head())"
   ]
  },
  {
   "cell_type": "markdown",
   "id": "b4e9d419-2fcb-4b83-8919-d2d255f0c9b7",
   "metadata": {},
   "source": [
    "# PREPARATION DES DONNEES POUR LA MODELISATION"
   ]
  },
  {
   "cell_type": "markdown",
   "id": "2ae6be74-6d96-452c-b47d-1764e712ffe4",
   "metadata": {},
   "source": [
    "## Encodage des phrases\n",
    "Nous allons utiliser le CountVectorizer de scikit-learn pour transformer les phrases en vecteurs de caractéristiques."
   ]
  },
  {
   "cell_type": "code",
   "execution_count": 6,
   "id": "660cbc37-7e41-424b-8adf-d9e73b333b68",
   "metadata": {},
   "outputs": [],
   "source": [
    "from sklearn.feature_extraction.text import CountVectorizer\n",
    "\n",
    "# Initialiser le vectorizer\n",
    "vectorizer = CountVectorizer()\n",
    "\n",
    "# Ajuster et transformer les données\n",
    "X_train = vectorizer.fit_transform(train_data[\"Sentence\"]).toarray()\n",
    "X_dev = vectorizer.transform(dev_data[\"Sentence\"]).toarray()\n",
    "X_test = vectorizer.transform(test_data[\"Sentence\"]).toarray()"
   ]
  },
  {
   "cell_type": "markdown",
   "id": "ffca03f1-e3f2-4514-83af-ed68c604b2f1",
   "metadata": {},
   "source": [
    "## Préparation des labels\n",
    "Nous devons également préparer les labels pour notre modèle."
   ]
  },
  {
   "cell_type": "code",
   "execution_count": 7,
   "id": "ab459f9c-1092-46e3-a855-114d8125076d",
   "metadata": {},
   "outputs": [],
   "source": [
    "y_train = train_data[\"Label\"].values\n",
    "y_dev = dev_data[\"Label\"].values\n",
    "y_test = test_data[\"Label\"].values"
   ]
  },
  {
   "cell_type": "markdown",
   "id": "8eb3f02b-10ee-44b6-9fac-5d92c64955bc",
   "metadata": {},
   "source": [
    "# ENTRAINEMENT DU MODELE"
   ]
  },
  {
   "cell_type": "code",
   "execution_count": 8,
   "id": "288421df-2baa-47c7-aee3-7879847d4d95",
   "metadata": {},
   "outputs": [
    {
     "name": "stdout",
     "output_type": "stream",
     "text": [
      "Accuracy sur les données de validation: 0.3605812897366031\n",
      "Rapport de classification:\n",
      "               precision    recall  f1-score   support\n",
      "\n",
      "           0       0.32      0.22      0.26       139\n",
      "           1       0.40      0.46      0.43       289\n",
      "           2       0.29      0.22      0.25       229\n",
      "           3       0.37      0.47      0.41       279\n",
      "           4       0.36      0.33      0.34       165\n",
      "\n",
      "    accuracy                           0.36      1101\n",
      "   macro avg       0.35      0.34      0.34      1101\n",
      "weighted avg       0.35      0.36      0.35      1101\n",
      "\n"
     ]
    }
   ],
   "source": [
    "from sklearn.linear_model import LogisticRegression\n",
    "from sklearn.metrics import accuracy_score, classification_report\n",
    "\n",
    "# Initialiser le modèle\n",
    "model = LogisticRegression(max_iter=1000)\n",
    "\n",
    "# Entraîner le modèle sur les données d'entraînement\n",
    "model.fit(X_train, y_train)\n",
    "\n",
    "# Évaluer le modèle sur les données de validation\n",
    "y_pred_dev = model.predict(X_dev)\n",
    "print(\"Accuracy sur les données de validation:\", accuracy_score(y_dev, y_pred_dev))\n",
    "print(\"Rapport de classification:\\n\", classification_report(y_dev, y_pred_dev))"
   ]
  },
  {
   "cell_type": "markdown",
   "id": "15bf2968-f6f0-47a6-a4e7-67c69c3032c0",
   "metadata": {},
   "source": [
    "# EVALUATION FINALE SUR LES DONNEES DE TEST"
   ]
  },
  {
   "cell_type": "code",
   "execution_count": 9,
   "id": "7c3408ee-8399-44ed-a27c-b2cc87d4b64c",
   "metadata": {},
   "outputs": [
    {
     "name": "stdout",
     "output_type": "stream",
     "text": [
      "Accuracy sur les données de test: 0.4\n",
      "Rapport de classification:\n",
      "               precision    recall  f1-score   support\n",
      "\n",
      "           0       0.35      0.25      0.29       279\n",
      "           1       0.45      0.48      0.47       633\n",
      "           2       0.24      0.23      0.24       389\n",
      "           3       0.37      0.48      0.42       510\n",
      "           4       0.57      0.43      0.49       399\n",
      "\n",
      "    accuracy                           0.40      2210\n",
      "   macro avg       0.40      0.38      0.38      2210\n",
      "weighted avg       0.41      0.40      0.40      2210\n",
      "\n"
     ]
    }
   ],
   "source": [
    "# Évaluer le modèle sur les données de test\n",
    "y_pred_test = model.predict(X_test)\n",
    "print(\"Accuracy sur les données de test:\", accuracy_score(y_test, y_pred_test))\n",
    "print(\"Rapport de classification:\\n\", classification_report(y_test, y_pred_test))"
   ]
  },
  {
   "cell_type": "markdown",
   "id": "c25ea54f-872c-40c2-9efc-ea8db398d646",
   "metadata": {},
   "source": [
    "# AFFINAGE ET AMELIORATION DU MODELE\n",
    "Maintenant que nous avons un modèle de base, nous pouvons explorer quelques techniques pour améliorer les performances."
   ]
  },
  {
   "cell_type": "markdown",
   "id": "e032b416-16ad-45b6-8f4b-5719670cf363",
   "metadata": {},
   "source": [
    "## Ajustement des hyperparamètres\n",
    "La régression logistique a plusieurs hyperparamètres que nous pouvons ajuster. Nous allons utiliser la validation croisée pour trouver les meilleurs hyperparamètres."
   ]
  },
  {
   "cell_type": "code",
   "execution_count": 11,
   "id": "8671767d-c01b-4ef4-8a29-37d1c43f052d",
   "metadata": {},
   "outputs": [
    {
     "name": "stdout",
     "output_type": "stream",
     "text": [
      "Fitting 5 folds for each of 8 candidates, totalling 40 fits\n",
      "Meilleurs hyperparamètres trouvés: {'C': 0.1, 'penalty': 'l2', 'solver': 'liblinear'}\n"
     ]
    }
   ],
   "source": [
    "from sklearn.model_selection import GridSearchCV\n",
    "\n",
    "# Définir la grille des hyperparamètres à tester\n",
    "param_grid = {\n",
    "    'C': [0.1, 1, 10, 100],\n",
    "    'penalty': ['l1', 'l2'],\n",
    "    'solver': ['liblinear']\n",
    "}\n",
    "\n",
    "# Initialiser le modèle de régression logistique\n",
    "model = LogisticRegression(max_iter=1000)\n",
    "\n",
    "# Initialiser la recherche par validation croisée\n",
    "grid_search = GridSearchCV(model, param_grid, cv=5, scoring='accuracy', verbose=1)\n",
    "\n",
    "# Effectuer la recherche sur les données d'entraînement\n",
    "grid_search.fit(X_train, y_train)\n",
    "\n",
    "# Afficher les meilleurs hyperparamètres\n",
    "print(\"Meilleurs hyperparamètres trouvés:\", grid_search.best_params_)"
   ]
  },
  {
   "cell_type": "markdown",
   "id": "c52fe35d-d2aa-41aa-83ee-ab402f38e3eb",
   "metadata": {},
   "source": [
    "## Réentraînement du modèle avec les meilleurs hyperparamètres trouvés"
   ]
  },
  {
   "cell_type": "code",
   "execution_count": 12,
   "id": "862d5924-5e47-4bce-8fec-992ade60074c",
   "metadata": {},
   "outputs": [
    {
     "name": "stdout",
     "output_type": "stream",
     "text": [
      "Accuracy sur les données de validation avec les meilleurs hyperparamètres: 0.37783832879200724\n",
      "Rapport de classification:\n",
      "               precision    recall  f1-score   support\n",
      "\n",
      "           0       0.39      0.10      0.16       139\n",
      "           1       0.40      0.60      0.48       289\n",
      "           2       0.27      0.11      0.16       229\n",
      "           3       0.37      0.58      0.45       279\n",
      "           4       0.43      0.24      0.31       165\n",
      "\n",
      "    accuracy                           0.38      1101\n",
      "   macro avg       0.37      0.33      0.31      1101\n",
      "weighted avg       0.37      0.38      0.34      1101\n",
      "\n"
     ]
    }
   ],
   "source": [
    "# Initialiser le modèle avec les meilleurs hyperparamètres\n",
    "best_model = grid_search.best_estimator_\n",
    "\n",
    "# Entraîner le modèle sur les données d'entraînement\n",
    "best_model.fit(X_train, y_train)\n",
    "\n",
    "# Évaluer le modèle sur les données de validation\n",
    "y_pred_dev = best_model.predict(X_dev)\n",
    "print(\"Accuracy sur les données de validation avec les meilleurs hyperparamètres:\", accuracy_score(y_dev, y_pred_dev))\n",
    "print(\"Rapport de classification:\\n\", classification_report(y_dev, y_pred_dev))"
   ]
  },
  {
   "cell_type": "markdown",
   "id": "6a6cbff4-69ef-46d8-b899-18247a5c282a",
   "metadata": {},
   "source": [
    "# EVALUATION FINALE SUR LES DONNEES DE TEST"
   ]
  },
  {
   "cell_type": "code",
   "execution_count": 13,
   "id": "d3c72329-8e95-4285-b183-07533c039083",
   "metadata": {},
   "outputs": [
    {
     "name": "stdout",
     "output_type": "stream",
     "text": [
      "Accuracy sur les données de test avec les meilleurs hyperparamètres: 0.4\n",
      "Rapport de classification:\n",
      "               precision    recall  f1-score   support\n",
      "\n",
      "           0       0.44      0.14      0.21       279\n",
      "           1       0.43      0.59      0.50       633\n",
      "           2       0.25      0.13      0.17       389\n",
      "           3       0.36      0.60      0.45       510\n",
      "           4       0.60      0.29      0.39       399\n",
      "\n",
      "    accuracy                           0.40      2210\n",
      "   macro avg       0.42      0.35      0.34      2210\n",
      "weighted avg       0.41      0.40      0.37      2210\n",
      "\n"
     ]
    }
   ],
   "source": [
    "# Évaluer le modèle sur les données de test\n",
    "y_pred_test = best_model.predict(X_test)\n",
    "print(\"Accuracy sur les données de test avec les meilleurs hyperparamètres:\", accuracy_score(y_test, y_pred_test))\n",
    "print(\"Rapport de classification:\\n\", classification_report(y_test, y_pred_test))"
   ]
  },
  {
   "cell_type": "markdown",
   "id": "73c67414-8df8-4ba8-97b9-5a2138a17d44",
   "metadata": {},
   "source": [
    "# ANALYSE DES RESULTATS\n",
    "Nous allons analyser les résultats pour comprendre comment le modèle se comporte sur les différentes classes de sentiments."
   ]
  },
  {
   "cell_type": "markdown",
   "id": "60cc0d86-f9eb-4ebb-b69a-3029d7581e9d",
   "metadata": {},
   "source": [
    "## Matrice de confusion\n",
    "La matrice de confusion nous permet de visualiser les performances du modèle en termes de faux positifs, faux négatifs, vrais positifs et vrais négatifs."
   ]
  },
  {
   "cell_type": "code",
   "execution_count": 14,
   "id": "00dfe526-b61f-4ad2-b3c6-fc8ac4c1ff5f",
   "metadata": {},
   "outputs": [
    {
     "data": {
      "image/png": "[encoded data removed]",
      "text/plain": [
       "<Figure size 1000x700 with 2 Axes>"
      ]
     },
     "metadata": {},
     "output_type": "display_data"
    }
   ],
   "source": [
    "from sklearn.metrics import confusion_matrix\n",
    "import seaborn as sns\n",
    "import matplotlib.pyplot as plt\n",
    "\n",
    "# Calculer la matrice de confusion\n",
    "conf_matrix = confusion_matrix(y_test, y_pred_test)\n",
    "\n",
    "# Visualiser la matrice de confusion\n",
    "plt.figure(figsize=(10, 7))\n",
    "sns.heatmap(conf_matrix, annot=True, fmt='d', cmap='Blues', xticklabels=[0, 1, 2, 3, 4], yticklabels=[0, 1, 2, 3, 4])\n",
    "plt.xlabel('Prédiction')\n",
    "plt.ylabel('Vérité terrain')\n",
    "plt.title('Matrice de confusion')\n",
    "plt.show()"
   ]
  },
  {
   "cell_type": "markdown",
   "id": "e7e3602d-30b0-4532-a426-eabd18e3daec",
   "metadata": {},
   "source": [
    "# SAUVEGARDE DU MODELE\n",
    "Enfin, nous allons sauvegarder le modèle entraîné pour une utilisation future."
   ]
  },
  {
   "cell_type": "code",
   "execution_count": 15,
   "id": "19652e6c-9383-476f-988b-838b59869303",
   "metadata": {},
   "outputs": [
    {
     "data": {
      "text/plain": [
       "['sentiment_analysis_model.pkl']"
      ]
     },
     "execution_count": 15,
     "metadata": {},
     "output_type": "execute_result"
    }
   ],
   "source": [
    "import joblib\n",
    "\n",
    "# Sauvegarder le modèle\n",
    "joblib.dump(best_model, 'sentiment_analysis_model.pkl')"
   ]
  },
  {
   "cell_type": "code",
   "execution_count": null,
   "id": "429701be-c5f8-4360-9074-3134e21e74f9",
   "metadata": {},
   "outputs": [],
   "source": []
  }
 ],
 "metadata": {
  "kernelspec": {
   "display_name": "Python 3 (ipykernel)",
   "language": "python",
   "name": "python3"
  },
  "language_info": {
   "codemirror_mode": {
    "name": "ipython",
    "version": 3
   },
   "file_extension": ".py",
   "mimetype": "text/x-python",
   "name": "python",
   "nbconvert_exporter": "python",
   "pygments_lexer": "ipython3",
   "version": "3.9.18"
  }
 },
 "nbformat": 4,
 "nbformat_minor": 5
}
